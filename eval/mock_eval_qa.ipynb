{
 "cells": [
  {
   "cell_type": "code",
   "execution_count": 2,
   "id": "17766da8",
   "metadata": {},
   "outputs": [
    {
     "data": {
      "text/plain": [
       "[176247, 98415, 48448, 61007]"
      ]
     },
     "execution_count": 2,
     "metadata": {},
     "output_type": "execute_result"
    }
   ],
   "source": [
    "import os\n",
    "\n",
    "# Define the directory path\n",
    "directory = r\"..\\agent\\papers\\parsed_txt\"\n",
    "\n",
    "# List to store file contents\n",
    "txt_files_content = []\n",
    "\n",
    "# Loop through all files in the directory\n",
    "for filename in os.listdir(directory):\n",
    "    if filename.endswith(\".txt\"):\n",
    "        file_path = os.path.join(directory, filename)\n",
    "        with open(file_path, 'r', encoding='utf-8') as file:\n",
    "            txt_files_content.append(file.read())\n",
    "\n",
    "len(txt_files_content)\n",
    "[len(txt) for txt in txt_files_content]"
   ]
  },
  {
   "cell_type": "code",
   "execution_count": 5,
   "id": "3de8934d",
   "metadata": {},
   "outputs": [],
   "source": [
    "from langchain_openai import ChatOpenAI\n",
    "from langchain_core.prompts import ChatPromptTemplate\n",
    "from dotenv import load_dotenv\n",
    "import os\n",
    "\n",
    "load_dotenv()\n",
    "os.environ[\"OPENAI_API_KEY\"] = os.getenv(\"OPENAI_API_KEY\")\n",
    "\n",
    "llm = ChatOpenAI(model=\"gpt-4.1-mini\", temperature=0.3)\n",
    "prompt = ChatPromptTemplate.from_template(\n",
    "    \"Given the following academic text, generate 10 example questions \"\n",
    "    \"that could be asked using the context across the whole file. \"\n",
    "    \"Return the questions as a list of strings.\\n\\n\"\n",
    "    \"Text:\\n{context}\"\n",
    ")\n",
    "\n",
    "prompt = ChatPromptTemplate.from_template(\n",
    "    \"Given the following academic text, generate 10 example questions \"\n",
    "    \"using the context across the whole file along with \"\n",
    "    \"their respective answers.\\n\\nText:\\n{context}\"\n",
    ")"
   ]
  },
  {
   "cell_type": "code",
   "execution_count": 4,
   "id": "b1bce83a",
   "metadata": {},
   "outputs": [],
   "source": [
    "from pydantic import BaseModel, Field\n",
    "from typing import List\n",
    "\n",
    "\n",
    "class QAItem(BaseModel):\n",
    "    question: str = Field(..., description=\"The generated mock question.\")\n",
    "    answer: str = Field(..., description=\"The answer to the mock question.\")\n",
    "\n",
    "class MockQA(BaseModel):\n",
    "    \"\"\"A list of mock questions and answers generated from the provided text.\"\"\"\n",
    "    qa: List[QAItem] = Field(..., description=\"A list of mock question and answer pairs.\")\n",
    "\n",
    "\n",
    "structured_llm = llm.with_structured_output(MockQA)"
   ]
  },
  {
   "cell_type": "code",
   "execution_count": 6,
   "id": "eb29165b",
   "metadata": {},
   "outputs": [],
   "source": [
    "qa_seperator = \"\\n\\n=== qa break ===\\n\\n\"\n",
    "input_dir = \"../agent/papers/parsed_txt\"\n",
    "output_dir = \"mock_qa\"\n",
    "os.makedirs(output_dir, exist_ok=True)\n",
    "\n",
    "for filename in os.listdir(input_dir):\n",
    "\n",
    "    if filename.endswith(\".txt\"):\n",
    "        file_path = os.path.join(input_dir, filename)\n",
    "        with open(file_path, \"r\", encoding=\"utf-8\") as f:\n",
    "            text = f.read()\n",
    "\n",
    "        context = text[:30000]\n",
    "        chain = prompt | structured_llm\n",
    "        results = chain.invoke({\"context\": context})\n",
    "        \n",
    "        # Save questions to output file\n",
    "        out_path = os.path.join(output_dir, filename.replace(\".txt\", \"_qa.txt\"))\n",
    "        with open(out_path, \"w\", encoding=\"utf-8\") as out_f:\n",
    "            for item in results.qa:\n",
    "                out_f.write(\"Question:\\n\" + item.question + \"\\n\")\n",
    "                out_f.write(\"Answer:\\n\" + item.answer + qa_seperator)\n",
    "\n"
   ]
  },
  {
   "cell_type": "code",
   "execution_count": null,
   "id": "957de942",
   "metadata": {},
   "outputs": [],
   "source": []
  },
  {
   "cell_type": "code",
   "execution_count": null,
   "id": "418c8cc3",
   "metadata": {},
   "outputs": [],
   "source": []
  },
  {
   "cell_type": "code",
   "execution_count": null,
   "id": "ccad97b7",
   "metadata": {},
   "outputs": [],
   "source": []
  }
 ],
 "metadata": {
  "kernelspec": {
   "display_name": "Python 3",
   "language": "python",
   "name": "python3"
  },
  "language_info": {
   "codemirror_mode": {
    "name": "ipython",
    "version": 3
   },
   "file_extension": ".py",
   "mimetype": "text/x-python",
   "name": "python",
   "nbconvert_exporter": "python",
   "pygments_lexer": "ipython3",
   "version": "3.10.7"
  }
 },
 "nbformat": 4,
 "nbformat_minor": 5
}
